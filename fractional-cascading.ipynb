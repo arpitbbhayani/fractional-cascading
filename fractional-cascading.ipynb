{
 "cells": [
  {
   "cell_type": "markdown",
   "metadata": {},
   "source": [
    "# Fractional Cascading"
   ]
  },
  {
   "cell_type": "markdown",
   "metadata": {},
   "source": [
    "## Problem Statement\n",
    "\n",
    "Given a `k` list of sorted integers and a value `x`. Given a query value `x` return the largest value less than or equal to `x` in each of the `k` lists."
   ]
  },
  {
   "cell_type": "code",
   "execution_count": 1,
   "metadata": {},
   "outputs": [],
   "source": [
    "import bisect"
   ]
  },
  {
   "cell_type": "code",
   "execution_count": 2,
   "metadata": {},
   "outputs": [],
   "source": [
    "arr = [\n",
    "    [24, 64, 65, 80, 93],\n",
    "    [23, 25, 26],\n",
    "    [13, 44, 62, 66],\n",
    "    [11, 35, 46, 79, 81],\n",
    "]"
   ]
  },
  {
   "cell_type": "markdown",
   "metadata": {},
   "source": [
    "## Slower Queries Less Space | Naive Way - `k` binary searches"
   ]
  },
  {
   "cell_type": "code",
   "execution_count": 3,
   "metadata": {},
   "outputs": [],
   "source": [
    "def get_locations_1(x): \n",
    "    return [bisect.bisect_left(l, x) for l in arr]"
   ]
  },
  {
   "cell_type": "code",
   "execution_count": 4,
   "metadata": {},
   "outputs": [
    {
     "data": {
      "text/plain": [
       "[1, 3, 2, 3]"
      ]
     },
     "execution_count": 4,
     "metadata": {},
     "output_type": "execute_result"
    }
   ],
   "source": [
    "get_locations_1(50)"
   ]
  },
  {
   "cell_type": "markdown",
   "metadata": {},
   "source": [
    "## Faster Queries More Space | Global Ordering"
   ]
  },
  {
   "cell_type": "code",
   "execution_count": 5,
   "metadata": {},
   "outputs": [],
   "source": [
    "# For each of the element in `arr` positions will hold\n",
    "# the location where the element `arr[i][j]` will be inserted.\n",
    "positions = []\n",
    "for i in range(len(arr)):\n",
    "    positions.append([])\n",
    "    for j in range(len(arr[i])):\n",
    "        positions[i].append([[]] * len(arr[i]))\n",
    "        positions[i][j] = [-1] * len(arr)"
   ]
  },
  {
   "cell_type": "code",
   "execution_count": 6,
   "metadata": {},
   "outputs": [],
   "source": [
    "for i, l in enumerate(arr):\n",
    "    for j, e in enumerate(l):\n",
    "        for k, m in enumerate(arr):\n",
    "            positions[i][j][k] = int(bisect.bisect_left(m, e))"
   ]
  },
  {
   "cell_type": "markdown",
   "metadata": {},
   "source": [
    "See where `17` - 4th list 4th element"
   ]
  },
  {
   "cell_type": "code",
   "execution_count": 7,
   "metadata": {},
   "outputs": [
    {
     "data": {
      "text/plain": [
       "[3, 3, 4, 3]"
      ]
     },
     "execution_count": 7,
     "metadata": {},
     "output_type": "execute_result"
    }
   ],
   "source": [
    "positions[3][3]"
   ]
  },
  {
   "cell_type": "code",
   "execution_count": 8,
   "metadata": {},
   "outputs": [],
   "source": [
    "pos_arr = sorted([\n",
    "    (y, positions[i][j],)\n",
    "    for i, x in enumerate(arr)\n",
    "        for j, y in enumerate(x)\n",
    "], key=lambda x: x[0])"
   ]
  },
  {
   "cell_type": "code",
   "execution_count": 9,
   "metadata": {},
   "outputs": [
    {
     "data": {
      "text/plain": [
       "[(11, [0, 0, 0, 0]),\n",
       " (13, [0, 0, 0, 1]),\n",
       " (23, [0, 0, 1, 1]),\n",
       " (24, [0, 1, 1, 1]),\n",
       " (25, [1, 1, 1, 1])]"
      ]
     },
     "execution_count": 9,
     "metadata": {},
     "output_type": "execute_result"
    }
   ],
   "source": [
    "pos_arr[:5]"
   ]
  },
  {
   "cell_type": "code",
   "execution_count": 10,
   "metadata": {},
   "outputs": [],
   "source": [
    "U = list(zip(*pos_arr))[0]"
   ]
  },
  {
   "cell_type": "code",
   "execution_count": 11,
   "metadata": {},
   "outputs": [],
   "source": [
    "def get_locations_2(x): \n",
    "    return list(pos_arr[bisect.bisect_left(U, x)][1])"
   ]
  },
  {
   "cell_type": "code",
   "execution_count": 12,
   "metadata": {},
   "outputs": [
    {
     "data": {
      "text/plain": [
       "[1, 3, 2, 3]"
      ]
     },
     "execution_count": 12,
     "metadata": {},
     "output_type": "execute_result"
    }
   ],
   "source": [
    "get_locations_2(50)"
   ]
  },
  {
   "cell_type": "markdown",
   "metadata": {},
   "source": [
    "## Best of both Worlds | Fractional Cascading"
   ]
  },
  {
   "cell_type": "code",
   "execution_count": 13,
   "metadata": {},
   "outputs": [],
   "source": [
    "m_arr = []"
   ]
  },
  {
   "cell_type": "code",
   "execution_count": 14,
   "metadata": {},
   "outputs": [],
   "source": [
    "m_arr.insert(0, [x for x in arr[-1]])"
   ]
  },
  {
   "cell_type": "code",
   "execution_count": 15,
   "metadata": {},
   "outputs": [],
   "source": [
    "for i in range(len(arr) - 2, -1, -1):\n",
    "    m_arr.insert(0, sorted([x for k, x in enumerate(m_arr[0]) if k % 2] + arr[i]))"
   ]
  },
  {
   "cell_type": "code",
   "execution_count": 16,
   "metadata": {},
   "outputs": [
    {
     "data": {
      "text/plain": [
       "[[24, 25, 35, 64, 65, 79, 80, 93],\n",
       " [23, 25, 26, 35, 62, 79],\n",
       " [13, 35, 44, 62, 66, 79],\n",
       " [11, 35, 46, 79, 81]]"
      ]
     },
     "execution_count": 16,
     "metadata": {},
     "output_type": "execute_result"
    }
   ],
   "source": [
    "m_arr"
   ]
  },
  {
   "cell_type": "code",
   "execution_count": 17,
   "metadata": {},
   "outputs": [],
   "source": [
    "# For each of the element in `arr` positions will hold\n",
    "# the location where the element `arr[i][j]` will be inserted.\n",
    "pointers = []\n",
    "for i in range(len(m_arr)):\n",
    "    pointers.append([])\n",
    "    for j in range(len(m_arr[i])):\n",
    "        pointers[i].append([[]] * len(arr[i]))\n",
    "        pointers[i][j] = [-1] * 2"
   ]
  },
  {
   "cell_type": "code",
   "execution_count": 18,
   "metadata": {},
   "outputs": [],
   "source": [
    "for i, l in enumerate(m_arr):\n",
    "    for j, m in enumerate(m_arr[i]):\n",
    "        pointers[i][j][0] = bisect.bisect_left(arr[i], m_arr[i][j])\n",
    "        if i == len(m_arr) - 1:\n",
    "            pointers[i][j][1] = 0\n",
    "        else:\n",
    "            pointers[i][j][1] = bisect.bisect_left(m_arr[i+1], m_arr[i][j])"
   ]
  },
  {
   "cell_type": "code",
   "execution_count": 19,
   "metadata": {},
   "outputs": [
    {
     "data": {
      "text/plain": [
       "[[[0, 1], [1, 1], [1, 3], [1, 5], [2, 5], [3, 5], [3, 6], [4, 6]],\n",
       " [[0, 1], [1, 1], [2, 1], [3, 1], [3, 3], [3, 5]],\n",
       " [[0, 1], [1, 1], [1, 2], [2, 3], [3, 3], [4, 3]],\n",
       " [[0, 0], [1, 0], [2, 0], [3, 0], [4, 0]]]"
      ]
     },
     "execution_count": 19,
     "metadata": {},
     "output_type": "execute_result"
    }
   ],
   "source": [
    "pointers"
   ]
  },
  {
   "cell_type": "code",
   "execution_count": 20,
   "metadata": {},
   "outputs": [],
   "source": [
    "def get_locations_3(x): \n",
    "    locations = []\n",
    "    loc, next_loc = pointers[0][bisect.bisect_left(m_arr[0], x)]\n",
    "    locations.append(loc)\n",
    "    for i in range(1, len(m_arr)):\n",
    "        if next_loc == 0:\n",
    "            loc, next_loc = 0, 0\n",
    "        else:    \n",
    "            if x < m_arr[i][next_loc-1]:\n",
    "                loc, next_loc = pointers[i][next_loc-1]\n",
    "            else:\n",
    "                loc, next_loc = pointers[i][next_loc]\n",
    "        locations.append(loc)\n",
    "    return locations"
   ]
  },
  {
   "cell_type": "code",
   "execution_count": 21,
   "metadata": {},
   "outputs": [
    {
     "data": {
      "text/plain": [
       "[1, 3, 2, 3]"
      ]
     },
     "execution_count": 21,
     "metadata": {},
     "output_type": "execute_result"
    }
   ],
   "source": [
    "get_locations_3(50)"
   ]
  }
 ],
 "metadata": {
  "kernelspec": {
   "display_name": "Python 3",
   "language": "python",
   "name": "python3"
  },
  "language_info": {
   "codemirror_mode": {
    "name": "ipython",
    "version": 3
   },
   "file_extension": ".py",
   "mimetype": "text/x-python",
   "name": "python",
   "nbconvert_exporter": "python",
   "pygments_lexer": "ipython3",
   "version": "3.7.6"
  }
 },
 "nbformat": 4,
 "nbformat_minor": 4
}
