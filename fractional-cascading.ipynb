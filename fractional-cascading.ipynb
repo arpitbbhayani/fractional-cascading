{
 "cells": [
  {
   "cell_type": "markdown",
   "metadata": {},
   "source": [
    "# Fractional Cascading"
   ]
  },
  {
   "cell_type": "markdown",
   "metadata": {},
   "source": [
    "## Problem Statement\n",
    "\n",
    "Given a `k` list of sorted integers and a value `x`. Given a query value `x` return the largest value less than or equal to `x` in each of the `k` lists."
   ]
  },
  {
   "cell_type": "code",
   "execution_count": 1,
   "metadata": {},
   "outputs": [],
   "source": [
    "import bisect"
   ]
  },
  {
   "cell_type": "code",
   "execution_count": 2,
   "metadata": {},
   "outputs": [],
   "source": [
    "arr = [\n",
    "    [24, 64, 65, 80, 93],\n",
    "    [23, 25, 26],\n",
    "    [13, 44, 62, 66],\n",
    "    [11, 35, 46, 79, 81],\n",
    "]\n",
    "\n",
    "r = 80"
   ]
  },
  {
   "cell_type": "markdown",
   "metadata": {},
   "source": [
    "## Slower Queries Less Space | Naive Way - `k` binary searches"
   ]
  },
  {
   "cell_type": "code",
   "execution_count": 3,
   "metadata": {},
   "outputs": [],
   "source": [
    "def get_locations_1(x): \n",
    "    return [bisect.bisect_left(l, x) for l in arr]"
   ]
  },
  {
   "cell_type": "code",
   "execution_count": 4,
   "metadata": {},
   "outputs": [
    {
     "data": {
      "text/plain": [
       "[3, 3, 4, 4]"
      ]
     },
     "execution_count": 4,
     "metadata": {},
     "output_type": "execute_result"
    }
   ],
   "source": [
    "get_locations_1(r)"
   ]
  },
  {
   "cell_type": "markdown",
   "metadata": {},
   "source": [
    "## Faster Queries More Space | Global Ordering"
   ]
  },
  {
   "cell_type": "code",
   "execution_count": 5,
   "metadata": {},
   "outputs": [],
   "source": [
    "# For each of the element in `arr` positions will hold\n",
    "# the location where the element `arr[i][j]` will be inserted.\n",
    "positions = []\n",
    "for i in range(len(arr)):\n",
    "    positions.append([])\n",
    "    for j in range(len(arr[i])):\n",
    "        positions[i].append([[]] * len(arr[i]))\n",
    "        positions[i][j] = [-1] * len(arr)"
   ]
  },
  {
   "cell_type": "code",
   "execution_count": 6,
   "metadata": {},
   "outputs": [],
   "source": [
    "for i, l in enumerate(arr):\n",
    "    for j, e in enumerate(l):\n",
    "        for k, m in enumerate(arr):\n",
    "            positions[i][j][k] = int(bisect.bisect_left(m, e))"
   ]
  },
  {
   "cell_type": "markdown",
   "metadata": {},
   "source": [
    "See where `17` - 4th list 4th element"
   ]
  },
  {
   "cell_type": "code",
   "execution_count": 7,
   "metadata": {},
   "outputs": [
    {
     "data": {
      "text/plain": [
       "[3, 3, 4, 3]"
      ]
     },
     "execution_count": 7,
     "metadata": {},
     "output_type": "execute_result"
    }
   ],
   "source": [
    "positions[3][3]"
   ]
  },
  {
   "cell_type": "code",
   "execution_count": 8,
   "metadata": {},
   "outputs": [],
   "source": [
    "pos_arr = sorted([\n",
    "    (y, positions[i][j],)\n",
    "    for i, x in enumerate(arr)\n",
    "        for j, y in enumerate(x)\n",
    "], key=lambda x: x[0])"
   ]
  },
  {
   "cell_type": "code",
   "execution_count": 9,
   "metadata": {},
   "outputs": [
    {
     "data": {
      "text/plain": [
       "[(11, [0, 0, 0, 0]),\n",
       " (13, [0, 0, 0, 1]),\n",
       " (23, [0, 0, 1, 1]),\n",
       " (24, [0, 1, 1, 1]),\n",
       " (25, [1, 1, 1, 1])]"
      ]
     },
     "execution_count": 9,
     "metadata": {},
     "output_type": "execute_result"
    }
   ],
   "source": [
    "pos_arr[:5]"
   ]
  },
  {
   "cell_type": "code",
   "execution_count": 10,
   "metadata": {},
   "outputs": [],
   "source": [
    "U = list(zip(*pos_arr))[0]"
   ]
  },
  {
   "cell_type": "code",
   "execution_count": 11,
   "metadata": {},
   "outputs": [],
   "source": [
    "def get_locations_2(x): \n",
    "    index = bisect.bisect_left(U, x)\n",
    "    if index == len(pos_arr):\n",
    "        return [len(l) for l in arr]\n",
    "    return pos_arr[index][1]"
   ]
  },
  {
   "cell_type": "code",
   "execution_count": 12,
   "metadata": {},
   "outputs": [
    {
     "data": {
      "text/plain": [
       "[3, 3, 4, 4]"
      ]
     },
     "execution_count": 12,
     "metadata": {},
     "output_type": "execute_result"
    }
   ],
   "source": [
    "get_locations_2(r)"
   ]
  },
  {
   "cell_type": "markdown",
   "metadata": {},
   "source": [
    "## Best of both Worlds | Fractional Cascading"
   ]
  },
  {
   "cell_type": "code",
   "execution_count": 13,
   "metadata": {},
   "outputs": [],
   "source": [
    "MIN_VAL, MAX_VAL = -1000000000, 1000000000"
   ]
  },
  {
   "cell_type": "code",
   "execution_count": 14,
   "metadata": {},
   "outputs": [],
   "source": [
    "m_arr = []"
   ]
  },
  {
   "cell_type": "code",
   "execution_count": 15,
   "metadata": {},
   "outputs": [],
   "source": [
    "m_arr.insert(0, [x for x in arr[-1]])"
   ]
  },
  {
   "cell_type": "code",
   "execution_count": 16,
   "metadata": {},
   "outputs": [],
   "source": [
    "for i in range(len(arr) - 2, -1, -1):\n",
    "    m_arr.insert(0, sorted([x for k, x in enumerate(m_arr[0]) if k % 2] + arr[i]))"
   ]
  },
  {
   "cell_type": "code",
   "execution_count": 17,
   "metadata": {},
   "outputs": [],
   "source": [
    "for l in m_arr:\n",
    "    l.insert(0, MIN_VAL)\n",
    "    l.append(MAX_VAL)"
   ]
  },
  {
   "cell_type": "code",
   "execution_count": 18,
   "metadata": {},
   "outputs": [
    {
     "data": {
      "text/plain": [
       "[[-1000000000, 24, 25, 35, 64, 65, 79, 80, 93, 1000000000],\n",
       " [-1000000000, 23, 25, 26, 35, 62, 79, 1000000000],\n",
       " [-1000000000, 13, 35, 44, 62, 66, 79, 1000000000],\n",
       " [-1000000000, 11, 35, 46, 79, 81, 1000000000]]"
      ]
     },
     "execution_count": 18,
     "metadata": {},
     "output_type": "execute_result"
    }
   ],
   "source": [
    "m_arr"
   ]
  },
  {
   "cell_type": "code",
   "execution_count": 19,
   "metadata": {},
   "outputs": [],
   "source": [
    "# For each of the element in `arr` positions will hold\n",
    "# the location where the element `arr[i][j]` will be inserted.\n",
    "pointers = []\n",
    "for i in range(len(m_arr)):\n",
    "    pointers.append([])\n",
    "    for j in range(len(m_arr[i])):\n",
    "        pointers[i].append([[]] * len(arr[i]))\n",
    "        pointers[i][j] = [-1] * 2"
   ]
  },
  {
   "cell_type": "code",
   "execution_count": 20,
   "metadata": {},
   "outputs": [],
   "source": [
    "for i, l in enumerate(m_arr):\n",
    "    for j, m in enumerate(m_arr[i]):\n",
    "        pointers[i][j] = [\n",
    "            bisect.bisect_left(arr[i], m_arr[i][j]),\n",
    "            0 if i == len(m_arr) - 1 else bisect.bisect_left(m_arr[i+1], m_arr[i][j]),\n",
    "        ]"
   ]
  },
  {
   "cell_type": "code",
   "execution_count": 21,
   "metadata": {},
   "outputs": [
    {
     "data": {
      "text/plain": [
       "[[[0, 0],\n",
       "  [0, 2],\n",
       "  [1, 2],\n",
       "  [1, 4],\n",
       "  [1, 6],\n",
       "  [2, 6],\n",
       "  [3, 6],\n",
       "  [3, 7],\n",
       "  [4, 7],\n",
       "  [5, 7]],\n",
       " [[0, 0], [0, 2], [1, 2], [2, 2], [3, 2], [3, 4], [3, 6], [3, 7]],\n",
       " [[0, 0], [0, 2], [1, 2], [1, 3], [2, 4], [3, 4], [4, 4], [4, 6]]]"
      ]
     },
     "execution_count": 21,
     "metadata": {},
     "output_type": "execute_result"
    }
   ],
   "source": [
    "pointers[:3]"
   ]
  },
  {
   "cell_type": "code",
   "execution_count": 22,
   "metadata": {},
   "outputs": [],
   "source": [
    "def get_locations_3(x): \n",
    "    locations = []\n",
    "    loc, next_loc = pointers[0][bisect.bisect_left(m_arr[0], x)]\n",
    "    locations.append(loc)\n",
    "    for i in range(1, len(m_arr)):\n",
    "        if x <= m_arr[i][next_loc-1]:\n",
    "            loc, next_loc = pointers[i][next_loc-1]\n",
    "        else:\n",
    "            loc, next_loc = pointers[i][next_loc]\n",
    "        locations.append(loc)\n",
    "    return locations"
   ]
  },
  {
   "cell_type": "code",
   "execution_count": 23,
   "metadata": {},
   "outputs": [
    {
     "data": {
      "text/plain": [
       "[3, 3, 4, 4]"
      ]
     },
     "execution_count": 23,
     "metadata": {},
     "output_type": "execute_result"
    }
   ],
   "source": [
    "get_locations_3(r)"
   ]
  }
 ],
 "metadata": {
  "kernelspec": {
   "display_name": "Python 3",
   "language": "python",
   "name": "python3"
  },
  "language_info": {
   "codemirror_mode": {
    "name": "ipython",
    "version": 3
   },
   "file_extension": ".py",
   "mimetype": "text/x-python",
   "name": "python",
   "nbconvert_exporter": "python",
   "pygments_lexer": "ipython3",
   "version": "3.7.6"
  }
 },
 "nbformat": 4,
 "nbformat_minor": 4
}
