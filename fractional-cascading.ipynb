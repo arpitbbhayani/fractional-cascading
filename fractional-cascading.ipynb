{
 "cells": [
  {
   "cell_type": "markdown",
   "metadata": {},
   "source": [
    "# Fractional Cascading"
   ]
  },
  {
   "cell_type": "markdown",
   "metadata": {},
   "source": [
    "## Problem Statement\n",
    "\n",
    "Given a `k` list of sorted integers and a value `x`. Given a query value `x` return the largest value less than or equal to `x` in each of the `k` lists."
   ]
  },
  {
   "cell_type": "code",
   "execution_count": 1,
   "metadata": {},
   "outputs": [],
   "source": [
    "import bisect"
   ]
  },
  {
   "cell_type": "code",
   "execution_count": 2,
   "metadata": {},
   "outputs": [],
   "source": [
    "arr = [\n",
    "    [21, 54, 64, 79, 93],\n",
    "    [27, 35, 46, 47, 72],\n",
    "    [11, 44, 62, 66, 94],\n",
    "    [10, 35, 46, 79, 83],\n",
    "]\n",
    "\n",
    "X = 60"
   ]
  },
  {
   "cell_type": "markdown",
   "metadata": {},
   "source": [
    "## `k` binary searches | Slower Queries Less Space"
   ]
  },
  {
   "cell_type": "code",
   "execution_count": 3,
   "metadata": {},
   "outputs": [],
   "source": [
    "def get_positions_k_bin_search(x): \n",
    "    return [bisect.bisect_left(l, x) for l in arr]"
   ]
  },
  {
   "cell_type": "code",
   "execution_count": 4,
   "metadata": {},
   "outputs": [
    {
     "data": {
      "text/plain": [
       "[2, 4, 2, 3]"
      ]
     },
     "execution_count": 4,
     "metadata": {},
     "output_type": "execute_result"
    }
   ],
   "source": [
    "get_positions_k_bin_search(X)"
   ]
  },
  {
   "cell_type": "markdown",
   "metadata": {},
   "source": [
    "## Unified Binary Search | Faster Queries More Space"
   ]
  },
  {
   "cell_type": "code",
   "execution_count": 5,
   "metadata": {},
   "outputs": [],
   "source": [
    "# For each of the element in `arr` positions will hold\n",
    "# the location where the element `arr[i][j]` will be inserted.\n",
    "positions = []\n",
    "for i in range(len(arr)):\n",
    "    positions.append([])\n",
    "    for j in range(len(arr[i])):\n",
    "        positions[i].append([[]] * len(arr[i]))\n",
    "        positions[i][j] = [-1] * len(arr)"
   ]
  },
  {
   "cell_type": "code",
   "execution_count": 6,
   "metadata": {},
   "outputs": [],
   "source": [
    "for i, l in enumerate(arr):\n",
    "    for j, e in enumerate(l):\n",
    "        for k, m in enumerate(arr):\n",
    "            positions[i][j][k] = int(bisect.bisect_left(m, e))"
   ]
  },
  {
   "cell_type": "markdown",
   "metadata": {},
   "source": [
    "See where `79` - 4th list 4th element"
   ]
  },
  {
   "cell_type": "code",
   "execution_count": 7,
   "metadata": {},
   "outputs": [
    {
     "data": {
      "text/plain": [
       "[3, 5, 4, 3]"
      ]
     },
     "execution_count": 7,
     "metadata": {},
     "output_type": "execute_result"
    }
   ],
   "source": [
    "positions[3][3]"
   ]
  },
  {
   "cell_type": "code",
   "execution_count": 8,
   "metadata": {},
   "outputs": [],
   "source": [
    "pos_arr = sorted([\n",
    "    (y, positions[i][j],)\n",
    "    for i, x in enumerate(arr)\n",
    "        for j, y in enumerate(x)\n",
    "], key=lambda x: x[0])"
   ]
  },
  {
   "cell_type": "code",
   "execution_count": 9,
   "metadata": {},
   "outputs": [
    {
     "data": {
      "text/plain": [
       "[(10, [0, 0, 0, 0]),\n",
       " (11, [0, 0, 0, 1]),\n",
       " (21, [0, 0, 1, 1]),\n",
       " (27, [1, 0, 1, 1]),\n",
       " (35, [1, 1, 1, 1]),\n",
       " (35, [1, 1, 1, 1]),\n",
       " (44, [1, 2, 1, 2]),\n",
       " (46, [1, 2, 2, 2]),\n",
       " (46, [1, 2, 2, 2]),\n",
       " (47, [1, 3, 2, 3]),\n",
       " (54, [1, 4, 2, 3]),\n",
       " (62, [2, 4, 2, 3]),\n",
       " (64, [2, 4, 3, 3]),\n",
       " (66, [3, 4, 3, 3]),\n",
       " (72, [3, 4, 4, 3]),\n",
       " (79, [3, 5, 4, 3]),\n",
       " (79, [3, 5, 4, 3]),\n",
       " (83, [4, 5, 4, 4]),\n",
       " (93, [4, 5, 4, 5]),\n",
       " (94, [5, 5, 4, 5])]"
      ]
     },
     "execution_count": 9,
     "metadata": {},
     "output_type": "execute_result"
    }
   ],
   "source": [
    "pos_arr"
   ]
  },
  {
   "cell_type": "code",
   "execution_count": 10,
   "metadata": {},
   "outputs": [],
   "source": [
    "U = list(zip(*pos_arr))[0]"
   ]
  },
  {
   "cell_type": "code",
   "execution_count": 11,
   "metadata": {},
   "outputs": [],
   "source": [
    "def get_positions_unified_bin_search(x): \n",
    "    index = bisect.bisect_left(U, x)\n",
    "    if index == len(pos_arr):\n",
    "        return [len(l) for l in arr]\n",
    "    return pos_arr[index][1]"
   ]
  },
  {
   "cell_type": "code",
   "execution_count": 12,
   "metadata": {},
   "outputs": [
    {
     "data": {
      "text/plain": [
       "[2, 4, 2, 3]"
      ]
     },
     "execution_count": 12,
     "metadata": {},
     "output_type": "execute_result"
    }
   ],
   "source": [
    "get_positions_unified_bin_search(X)"
   ]
  },
  {
   "cell_type": "markdown",
   "metadata": {},
   "source": [
    "## Fractional Cascading | Best of both Worlds"
   ]
  },
  {
   "cell_type": "code",
   "execution_count": 13,
   "metadata": {},
   "outputs": [],
   "source": [
    "MIN_VAL, MAX_VAL = -1000000000, 1000000000"
   ]
  },
  {
   "cell_type": "code",
   "execution_count": 14,
   "metadata": {},
   "outputs": [],
   "source": [
    "m_arr = []"
   ]
  },
  {
   "cell_type": "code",
   "execution_count": 15,
   "metadata": {},
   "outputs": [],
   "source": [
    "m_arr.insert(0, [x for x in arr[-1]])"
   ]
  },
  {
   "cell_type": "code",
   "execution_count": 16,
   "metadata": {},
   "outputs": [],
   "source": [
    "for i in range(len(arr) - 2, -1, -1):\n",
    "    m_arr.insert(0, sorted([x for k, x in enumerate(m_arr[0]) if k % 2] + arr[i]))"
   ]
  },
  {
   "cell_type": "code",
   "execution_count": 17,
   "metadata": {},
   "outputs": [],
   "source": [
    "for l in m_arr:\n",
    "    l.insert(0, MIN_VAL)\n",
    "    l.append(MAX_VAL)"
   ]
  },
  {
   "cell_type": "code",
   "execution_count": 18,
   "metadata": {},
   "outputs": [
    {
     "data": {
      "text/plain": [
       "[[-1000000000, 21, 35, 46, 54, 62, 64, 79, 79, 93, 1000000000],\n",
       " [-1000000000, 27, 35, 35, 46, 47, 62, 72, 79, 1000000000],\n",
       " [-1000000000, 11, 35, 44, 62, 66, 79, 94, 1000000000],\n",
       " [-1000000000, 10, 35, 46, 79, 83, 1000000000]]"
      ]
     },
     "execution_count": 18,
     "metadata": {},
     "output_type": "execute_result"
    }
   ],
   "source": [
    "m_arr"
   ]
  },
  {
   "cell_type": "code",
   "execution_count": 19,
   "metadata": {},
   "outputs": [],
   "source": [
    "# For each of the element in `arr` positions will hold\n",
    "# the location where the element `arr[i][j]` will be inserted.\n",
    "pointers = []\n",
    "for i in range(len(m_arr)):\n",
    "    pointers.append([])\n",
    "    for j in range(len(m_arr[i])):\n",
    "        pointers[i].append([[]] * len(arr[i]))\n",
    "        pointers[i][j] = [-1] * 2"
   ]
  },
  {
   "cell_type": "code",
   "execution_count": 20,
   "metadata": {},
   "outputs": [],
   "source": [
    "for i, l in enumerate(m_arr):\n",
    "    for j, m in enumerate(m_arr[i]):\n",
    "        pointers[i][j] = [\n",
    "            bisect.bisect_left(arr[i], m_arr[i][j]),\n",
    "            0 if i == len(m_arr) - 1 else bisect.bisect_left(m_arr[i+1], m_arr[i][j]),\n",
    "        ]"
   ]
  },
  {
   "cell_type": "code",
   "execution_count": 21,
   "metadata": {},
   "outputs": [
    {
     "data": {
      "text/plain": [
       "[[[0, 0],\n",
       "  [0, 1],\n",
       "  [1, 2],\n",
       "  [1, 4],\n",
       "  [1, 6],\n",
       "  [2, 6],\n",
       "  [2, 7],\n",
       "  [3, 8],\n",
       "  [3, 8],\n",
       "  [4, 9],\n",
       "  [5, 9]],\n",
       " [[0, 0],\n",
       "  [0, 2],\n",
       "  [1, 2],\n",
       "  [1, 2],\n",
       "  [2, 4],\n",
       "  [3, 4],\n",
       "  [4, 4],\n",
       "  [4, 6],\n",
       "  [5, 6],\n",
       "  [5, 8]],\n",
       " [[0, 0], [0, 2], [1, 2], [1, 3], [2, 4], [3, 4], [4, 4], [4, 6], [5, 6]]]"
      ]
     },
     "execution_count": 21,
     "metadata": {},
     "output_type": "execute_result"
    }
   ],
   "source": [
    "pointers[:3]"
   ]
  },
  {
   "cell_type": "code",
   "execution_count": 22,
   "metadata": {},
   "outputs": [],
   "source": [
    "def get_positions_fractional_cascading(x): \n",
    "    locations = []\n",
    "    loc, next_loc = pointers[0][bisect.bisect_left(m_arr[0], x)]\n",
    "    locations.append(loc)\n",
    "    for i in range(1, len(m_arr)):\n",
    "        if x <= m_arr[i][next_loc-1]:\n",
    "            loc, next_loc = pointers[i][next_loc-1]\n",
    "        else:\n",
    "            loc, next_loc = pointers[i][next_loc]\n",
    "        locations.append(loc)\n",
    "    return locations"
   ]
  },
  {
   "cell_type": "code",
   "execution_count": 23,
   "metadata": {},
   "outputs": [
    {
     "data": {
      "text/plain": [
       "[2, 4, 2, 3]"
      ]
     },
     "execution_count": 23,
     "metadata": {},
     "output_type": "execute_result"
    }
   ],
   "source": [
    "get_positions_fractional_cascading(X)"
   ]
  }
 ],
 "metadata": {
  "kernelspec": {
   "display_name": "Python 3",
   "language": "python",
   "name": "python3"
  },
  "language_info": {
   "codemirror_mode": {
    "name": "ipython",
    "version": 3
   },
   "file_extension": ".py",
   "mimetype": "text/x-python",
   "name": "python",
   "nbconvert_exporter": "python",
   "pygments_lexer": "ipython3",
   "version": "3.7.6"
  }
 },
 "nbformat": 4,
 "nbformat_minor": 4
}
